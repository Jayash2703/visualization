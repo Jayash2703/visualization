{
 "cells": [
  {
   "cell_type": "code",
   "execution_count": 14,
   "id": "0e18fac3-db47-4235-8643-58c065a4e2d5",
   "metadata": {},
   "outputs": [],
   "source": [
    "import pandas as pd \n",
    "import requests\n",
    "from bs4 import BeautifulSoup as bs"
   ]
  },
  {
   "cell_type": "code",
   "execution_count": 15,
   "id": "8554dcc2-34a1-45e0-ac5b-d34851cdbe34",
   "metadata": {},
   "outputs": [
    {
     "data": {
      "text/plain": [
       "'https://www.amazon.in/Fire-Boltt-Bluetooth-Smartwatch-Assistant-Monitoring/dp/B0BRKYMS7Y/ref=sr_1_1_sspa?sr=8-1-spons&sp_csd=d2lkZ2V0TmFtZT1zcF9hdGY&psc=1'"
      ]
     },
     "execution_count": 15,
     "metadata": {},
     "output_type": "execute_result"
    }
   ],
   "source": [
    "link = 'https://www.amazon.in/Fire-Boltt-Bluetooth-Smartwatch-Assistant-Monitoring/dp/B0BRKYMS7Y/ref=sr_1_1_sspa?sr=8-1-spons&sp_csd=d2lkZ2V0TmFtZT1zcF9hdGY&psc=1'\n",
    "link"
   ]
  },
  {
   "cell_type": "code",
   "execution_count": 16,
   "id": "9655bcc0-8b2d-47ca-bf85-e37aa690e88e",
   "metadata": {},
   "outputs": [],
   "source": [
    "headers ={\n",
    "    \"User-Agent\":\"abc\"\n",
    "}"
   ]
  },
  {
   "cell_type": "code",
   "execution_count": 17,
   "id": "9fa8b100-ce8e-4f82-b6b1-bb2279e78e3f",
   "metadata": {},
   "outputs": [
    {
     "data": {
      "text/plain": [
       "<Response [200]>"
      ]
     },
     "execution_count": 17,
     "metadata": {},
     "output_type": "execute_result"
    }
   ],
   "source": [
    "page = requests.get(link,headers= headers)\n",
    "page"
   ]
  },
  {
   "cell_type": "code",
   "execution_count": 18,
   "id": "eb111816-5d60-47b6-a00b-bb3e70554a88",
   "metadata": {},
   "outputs": [
    {
     "name": "stderr",
     "output_type": "stream",
     "text": [
      "IOPub data rate exceeded.\n",
      "The Jupyter server will temporarily stop sending output\n",
      "to the client in order to avoid crashing it.\n",
      "To change this limit, set the config variable\n",
      "`--ServerApp.iopub_data_rate_limit`.\n",
      "\n",
      "Current values:\n",
      "ServerApp.iopub_data_rate_limit=1000000.0 (bytes/sec)\n",
      "ServerApp.rate_limit_window=3.0 (secs)\n",
      "\n"
     ]
    }
   ],
   "source": [
    "soup= bs(page.content,'html.parser')\n",
    "print(soup.prettify())"
   ]
  },
  {
   "cell_type": "code",
   "execution_count": 19,
   "id": "0c16cd10-7e7a-45dd-a46f-56c3af7c4916",
   "metadata": {},
   "outputs": [
    {
     "data": {
      "text/plain": [
       "[<span class=\"a-profile-name\">Product Feature Video</span>,\n",
       " <span class=\"a-profile-name\">Amazon Customer</span>,\n",
       " <span class=\"a-profile-name\">Amazon Customer</span>,\n",
       " <span class=\"a-profile-name\">Manish Kumar</span>,\n",
       " <span class=\"a-profile-name\">Amazon Customer</span>,\n",
       " <span class=\"a-profile-name\">nilesh s.</span>,\n",
       " <span class=\"a-profile-name\">nilesh s.</span>,\n",
       " <span class=\"a-profile-name\">Niklas pohlgeers</span>,\n",
       " <span class=\"a-profile-name\">Brian M Wood</span>,\n",
       " <span class=\"a-profile-name\">Lanette</span>,\n",
       " <span class=\"a-profile-name\">Lanette</span>,\n",
       " <span class=\"a-profile-name\">steven reichert</span>,\n",
       " <span class=\"a-profile-name\">Eric S</span>,\n",
       " <span class=\"a-profile-name\">Eric S</span>]"
      ]
     },
     "execution_count": 19,
     "metadata": {},
     "output_type": "execute_result"
    }
   ],
   "source": [
    "names = soup.find_all('span', class_='a-profile-name')\n",
    "names"
   ]
  },
  {
   "cell_type": "code",
   "execution_count": 20,
   "id": "76053d69-9c35-4ab3-8251-954d5b01e021",
   "metadata": {},
   "outputs": [
    {
     "data": {
      "text/plain": [
       "['Product Feature Video',\n",
       " 'Amazon Customer',\n",
       " 'Amazon Customer',\n",
       " 'Manish Kumar',\n",
       " 'Amazon Customer',\n",
       " 'nilesh s.',\n",
       " 'nilesh s.',\n",
       " 'Niklas pohlgeers',\n",
       " 'Brian M Wood',\n",
       " 'Lanette',\n",
       " 'Lanette',\n",
       " 'steven reichert',\n",
       " 'Eric S',\n",
       " 'Eric S']"
      ]
     },
     "execution_count": 20,
     "metadata": {},
     "output_type": "execute_result"
    }
   ],
   "source": [
    "cust_name=[]\n",
    "for i in range(0,len(names)):\n",
    "    cust_name.append(names[i].get_text())\n",
    "cust_name"
   ]
  },
  {
   "cell_type": "code",
   "execution_count": 21,
   "id": "be9a5c74-e3ee-4a1f-9ffe-7b2c1d56c417",
   "metadata": {},
   "outputs": [
    {
     "data": {
      "text/plain": [
       "14"
      ]
     },
     "execution_count": 21,
     "metadata": {},
     "output_type": "execute_result"
    }
   ],
   "source": [
    "len(cust_name)"
   ]
  },
  {
   "cell_type": "code",
   "execution_count": 22,
   "id": "e44431dc-a5fa-4538-a67c-0adcdfbc06f4",
   "metadata": {},
   "outputs": [
    {
     "data": {
      "text/plain": [
       "[<a class=\"a-size-base a-link-normal review-title a-color-base review-title-content a-text-bold\" data-hook=\"review-title\" href=\"/gp/customer-reviews/R1Q8EEIR03QFM3/ref=cm_cr_dp_d_rvw_ttl?ie=UTF8&amp;ASIN=B0BRKYMS7Y\"><i class=\"a-icon a-icon-star a-star-5 review-rating\" data-hook=\"review-star-rating\"><span class=\"a-icon-alt\">5.0 out of 5 stars</span></i><span class=\"a-letter-space\"></span>\n",
       " <span>Budget friendly smartwatch</span>\n",
       " </a>,\n",
       " <a class=\"a-size-base a-link-normal review-title a-color-base review-title-content a-text-bold\" data-hook=\"review-title\" href=\"/gp/customer-reviews/R29Q2HPRGMXY75/ref=cm_cr_dp_d_rvw_ttl?ie=UTF8&amp;ASIN=B0BRKYMS7Y\"><i class=\"a-icon a-icon-star a-star-4 review-rating\" data-hook=\"review-star-rating\"><span class=\"a-icon-alt\">4.0 out of 5 stars</span></i><span class=\"a-letter-space\"></span>\n",
       " <span>Considerable for the price</span>\n",
       " </a>,\n",
       " <a class=\"a-size-base a-link-normal review-title a-color-base review-title-content a-text-bold\" data-hook=\"review-title\" href=\"/gp/customer-reviews/RBVUUF46ANBRH/ref=cm_cr_dp_d_rvw_ttl?ie=UTF8&amp;ASIN=B0BRKYMS7Y\"><i class=\"a-icon a-icon-star a-star-4 review-rating\" data-hook=\"review-star-rating\"><span class=\"a-icon-alt\">4.0 out of 5 stars</span></i><span class=\"a-letter-space\"></span>\n",
       " <span>Fire-Boltt Phoenix BSW 194: Budget-Friendly Fitness on Your Wrist</span>\n",
       " </a>]"
      ]
     },
     "execution_count": 22,
     "metadata": {},
     "output_type": "execute_result"
    }
   ],
   "source": [
    "rt = soup.find_all('a', class_='review-title')\n",
    "rt"
   ]
  },
  {
   "cell_type": "code",
   "execution_count": 23,
   "id": "99a8f426-67cd-4ce5-bdf6-034a891fab3a",
   "metadata": {},
   "outputs": [
    {
     "data": {
      "text/plain": [
       "['Budget friendly smartwatch',\n",
       " 'Considerable for the price',\n",
       " 'Fire-Boltt Phoenix BSW 194: Budget-Friendly Fitness on Your Wrist']"
      ]
     },
     "execution_count": 23,
     "metadata": {},
     "output_type": "execute_result"
    }
   ],
   "source": [
    "review_title=[]\n",
    "for i in range(0,len(rt)):\n",
    "    review_title.append(rt[i].get_text().split('\\n')[1])\n",
    "review_title"
   ]
  },
  {
   "cell_type": "code",
   "execution_count": 24,
   "id": "aacd256c-a598-40af-8b96-6b1b12783999",
   "metadata": {},
   "outputs": [
    {
     "data": {
      "text/plain": [
       "3"
      ]
     },
     "execution_count": 24,
     "metadata": {},
     "output_type": "execute_result"
    }
   ],
   "source": [
    "len(review_title)"
   ]
  },
  {
   "cell_type": "code",
   "execution_count": 25,
   "id": "bc2b98ca-bad8-4975-987b-caeaa61ee682",
   "metadata": {},
   "outputs": [
    {
     "data": {
      "text/plain": [
       "[<a class=\"a-size-base a-link-normal review-title a-color-base review-title-content a-text-bold\" data-hook=\"review-title\" href=\"/gp/customer-reviews/R1Q8EEIR03QFM3/ref=cm_cr_dp_d_rvw_ttl?ie=UTF8&amp;ASIN=B0BRKYMS7Y\"><i class=\"a-icon a-icon-star a-star-5 review-rating\" data-hook=\"review-star-rating\"><span class=\"a-icon-alt\">5.0 out of 5 stars</span></i><span class=\"a-letter-space\"></span>\n",
       " <span>Budget friendly smartwatch</span>\n",
       " </a>,\n",
       " <a class=\"a-size-base a-link-normal review-title a-color-base review-title-content a-text-bold\" data-hook=\"review-title\" href=\"/gp/customer-reviews/R29Q2HPRGMXY75/ref=cm_cr_dp_d_rvw_ttl?ie=UTF8&amp;ASIN=B0BRKYMS7Y\"><i class=\"a-icon a-icon-star a-star-4 review-rating\" data-hook=\"review-star-rating\"><span class=\"a-icon-alt\">4.0 out of 5 stars</span></i><span class=\"a-letter-space\"></span>\n",
       " <span>Considerable for the price</span>\n",
       " </a>,\n",
       " <a class=\"a-size-base a-link-normal review-title a-color-base review-title-content a-text-bold\" data-hook=\"review-title\" href=\"/gp/customer-reviews/RBVUUF46ANBRH/ref=cm_cr_dp_d_rvw_ttl?ie=UTF8&amp;ASIN=B0BRKYMS7Y\"><i class=\"a-icon a-icon-star a-star-4 review-rating\" data-hook=\"review-star-rating\"><span class=\"a-icon-alt\">4.0 out of 5 stars</span></i><span class=\"a-letter-space\"></span>\n",
       " <span>Fire-Boltt Phoenix BSW 194: Budget-Friendly Fitness on Your Wrist</span>\n",
       " </a>]"
      ]
     },
     "execution_count": 25,
     "metadata": {},
     "output_type": "execute_result"
    }
   ],
   "source": [
    "rate = soup.find_all('a', class_='review-title')\n",
    "rate"
   ]
  },
  {
   "cell_type": "code",
   "execution_count": 26,
   "id": "093ec641-d9ff-4207-ae5f-1faa9f38a63d",
   "metadata": {},
   "outputs": [
    {
     "data": {
      "text/plain": [
       "['5.0', '4.0', '4.0']"
      ]
     },
     "execution_count": 26,
     "metadata": {},
     "output_type": "execute_result"
    }
   ],
   "source": [
    "rating=[]\n",
    "for i in range(0,len(rate)):\n",
    "    rating.append(rate[i].get_text().split('\\n')[0].split(' ')[0])\n",
    "rating"
   ]
  },
  {
   "cell_type": "code",
   "execution_count": 27,
   "id": "0888e564-ab2d-4685-a5b7-c495c79e9cd3",
   "metadata": {},
   "outputs": [
    {
     "data": {
      "text/plain": [
       "[<div aria-expanded=\"false\" class=\"a-expander-content reviewText review-text-content a-expander-partial-collapse-content\" data-hook=\"review-collapsed\">\n",
       " <span>Fireboltt Phoenix Smart Watch Review: A Budget-Friendly Fitness Companion<br><br/>The Fireboltt Phoenix smartwatch offers a budget-friendly option for those seeking basic fitness tracking and smart features without breaking the bank. Here's a comprehensive review:<br/><br/>Design:<br/>The Fireboltt Phoenix sports a sleek and minimalistic design, with a lightweight build that makes it comfortable for all-day wear. The 1.4-inch touchscreen display is vibrant and easy to navigate, though it could be slightly larger for improved readability.<br/><br/>Features:<br/>This smartwatch packs an impressive array of features considering its price point. It offers all-day activity tracking, including steps, distance, calories burned, and sleep monitoring. Additionally, it includes built-in sports modes for various activities like running, cycling, and more, providing users with valuable workout insights.<br/><br/>The Fireboltt Phoenix also boasts basic smartwatch functionalities such as notifications for calls, messages, and social media alerts, allowing users to stay connected on the go. However, the device lacks advanced features like NFC for contactless payments or built-in GPS for precise tracking during outdoor activities.<br/><br/>Performance:<br/>In terms of performance, the Fireboltt Phoenix delivers reliable results for basic fitness tracking. Step counts and sleep tracking are generally accurate, though users may experience occasional discrepancies. The battery life is respectable, offering around 5-7 days on a single charge with moderate usage.<br/><br/>Compatibility:<br/>The Fireboltt Phoenix is compatible with both Android and iOS devices, ensuring broad accessibility for users across different platforms. However, the companion app could use some refinement in terms of user interface and functionality.<br/><br/>Overall:<br/>For its affordable price, the Fireboltt Phoenix smartwatch offers excellent value for users seeking a reliable fitness companion with essential smart features. While it may not rival high-end smartwatches in terms of advanced functionalities, it more than meets the needs of casual users and fitness enthusiasts on a budget. If you're looking for an affordable entry into the world of smartwatches, the Fireboltt Phoenix is definitely worth considering.</br></span>\n",
       " </div>,\n",
       " <div aria-expanded=\"false\" class=\"a-expander-content reviewText review-text-content a-expander-partial-collapse-content\" data-hook=\"review-collapsed\">\n",
       " <span>Lete make this quick:<br/><br/>Design: Besides a 1.39-inch display, it's also durable and water-resistant for active lifestyles.<br/><br/>Features:<br/>- Standout feature: Bluetooth calling, a rare find at this price.<br/>- Tracks heart rate, SpO2, and various sports modes.<br/>- Monitors sleep and stress levels (not very accurate though)<br/><br/>Battery Life:<br/>- Lasts up to 5 days on a single charge, but heavy use of features like Bluetooth calling can drain it faster.<br/><br/>Other Considerations:<br/>- App has some syncing issues, not a wide selection of good watch faces available.<br/><br/>Overall:<br/>- Great for budget-conscious fitness fans, especially those wanting Bluetooth calling.<br/>- Good display and health tracking, but app performance can be improved.<br/><br/>In Short:<br/>Pros:<br/>- Affordable<br/>- Bluetooth calling<br/>- Health tracking features<br/><br/>Cons:<br/>- Quality watch faces are limited<br/>- App syncing issues<br/>- Battery life varies<br/><br/>Overall, if you don't care much about the cons, it's a considerable budget smartwatch.</span>\n",
       " </div>,\n",
       " <div aria-expanded=\"false\" class=\"a-expander-content reviewText review-text-content a-expander-partial-collapse-content\" data-hook=\"review-collapsed\">\n",
       " <span>Fire-Boltt Phoenix BSW 194: Budget-Friendly Fitness on Your Wrist<br/>The Fire-Boltt Phoenix BSW 194 is a smartwatch aimed at those looking for a feature-packed wearable at an affordable price. Let's see if it lives up to the hype.<br/>Design and Build:<br/> * The Phoenix boasts a  1.43-inch AMOLED display with a decent resolution, offering clear visuals.<br/> * The metal body feels surprisingly sturdy for the price, and the IP67 water resistance allows you to take it for runs or wear it in the rain.<br/> * While some reviewers find the design sporty and functional, others might  consider it a bit bulky.<br/>Features:<br/> * The standout feature is Bluetooth calling, which lets you make and receive calls directly from your wrist. This is a convenience you won't find in many smartwatches at this price point.<br/> * Beyond calls, it offers a suite of health and fitness trackers, including heart rate monitoring, SpO2 (blood oxygen) measurement, and multiple sports modes.<br/> * Sleep monitoring and stress monitoring are included as well, although their accuracy might be debated.<br/>Battery Life:<br/> * The Fire-Boltt Phoenix is advertised to last up to 5 days on a single charge, which is fairly standard. However, frequent use of features like Bluetooth calling can significantly reduce that.<br/>Other Considerations:<br/> * The companion app might not be the most intuitive, and some users report occasional syncing issues.<br/> * While the watch offers a wide variety of watch faces, their quality can be inconsistent.<br/>Overall:<br/>The Fire-Boltt Phoenix BSW 194 is a solid option for budget-minded fitness enthusiasts who prioritize features like Bluetooth calling. The display is good, the build quality is decent, and the health tracking features, while not perfect, are a welcome addition. However, keep in mind the potential drawbacks like a less-than-perfect app and average battery life when making your decision.<br/>Here's a quick breakdown:<br/>Pros:<br/> * Affordable price<br/> * Bluetooth calling<br/> * Multiple health and fitness tracking features<br/> * AMOLED display<br/>Cons:<br/> * Bulky design (subjective)<br/> * App could be improved<br/> * Inconsistent battery life with heavy use<br/>If you're looking for a feature-rich smartwatch at a great price, the Fire-Boltt Phoenix BSW 194 is a strong contender. Just be sure to manage your expectations for app performance and battery life.</span>\n",
       " </div>,\n",
       " <div aria-expanded=\"false\" class=\"a-expander-content reviewText review-text-content a-expander-partial-collapse-content\" data-hook=\"review-collapsed\">\n",
       " <span>This is a great watch although I can’t get phone or ai voice control to work on the watch, does anyone know what size band this watch takes, I’m trying to find a different color band</span>\n",
       " </div>,\n",
       " <div aria-expanded=\"false\" class=\"a-expander-content reviewText review-text-content a-expander-partial-collapse-content\" data-hook=\"review-collapsed\">\n",
       " <span>Da Fit app is not very good. It cannot display the correct weather, temperatures are way off and provides incorrect forecast.</span>\n",
       " </div>,\n",
       " <div aria-expanded=\"false\" class=\"a-expander-content reviewText review-text-content a-expander-partial-collapse-content\" data-hook=\"review-collapsed\">\n",
       " <span>I bought this knowing that it was inexpensive, I wasn't expecting the world...but at the very least, I expected it to stay together. While removing it from the packaging, the display fell off the watch. It is only connected by a few scraps of terrible glue and the ribbon cable. I didn't even get to wear it. I have never returned a product faster. Do not buy this! Even if yours stays together, the glue is so bad that the water and dust ratings are meaningless. Save your money.</span>\n",
       " </div>,\n",
       " <div aria-expanded=\"false\" class=\"a-expander-content reviewText review-text-content a-expander-partial-collapse-content\" data-hook=\"review-collapsed\">\n",
       " <span>Good quality product</span>\n",
       " </div>,\n",
       " <div aria-expanded=\"false\" class=\"a-expander-content reviewText review-text-content a-expander-partial-collapse-content\" data-hook=\"review-collapsed\">\n",
       " <span>After one day, I can't find anything bad about it. I look forward to future products from this company and will definitely buy the next model to come out.<br><br/>2 Week Update: Still pretty happy with the watch given the price. My biggest complaint is you can not silence the ringer or put it on vibrate. I ended up just disabling the phone in my phone's Bluetooth settings because it's more of a gimmick anyway.<br/><br/>1 Month Update: I found out the hard way this watch leaks like a sieve. I think it's unreasonable for a watch to not have an any water resistance.</br></span>\n",
       " </div>]"
      ]
     },
     "execution_count": 27,
     "metadata": {},
     "output_type": "execute_result"
    }
   ],
   "source": [
    "rc= soup.find_all('div', {\"data-hook\":\"review-collapsed\"})\n",
    "rc"
   ]
  },
  {
   "cell_type": "code",
   "execution_count": 28,
   "id": "8d5d1d7f-8e15-42cd-a544-44c555dc146f",
   "metadata": {},
   "outputs": [
    {
     "data": {
      "text/plain": [
       "[\"Fireboltt Phoenix Smart Watch Review: A Budget-Friendly Fitness CompanionThe Fireboltt Phoenix smartwatch offers a budget-friendly option for those seeking basic fitness tracking and smart features without breaking the bank. Here's a comprehensive review:Design:The Fireboltt Phoenix sports a sleek and minimalistic design, with a lightweight build that makes it comfortable for all-day wear. The 1.4-inch touchscreen display is vibrant and easy to navigate, though it could be slightly larger for improved readability.Features:This smartwatch packs an impressive array of features considering its price point. It offers all-day activity tracking, including steps, distance, calories burned, and sleep monitoring. Additionally, it includes built-in sports modes for various activities like running, cycling, and more, providing users with valuable workout insights.The Fireboltt Phoenix also boasts basic smartwatch functionalities such as notifications for calls, messages, and social media alerts, allowing users to stay connected on the go. However, the device lacks advanced features like NFC for contactless payments or built-in GPS for precise tracking during outdoor activities.Performance:In terms of performance, the Fireboltt Phoenix delivers reliable results for basic fitness tracking. Step counts and sleep tracking are generally accurate, though users may experience occasional discrepancies. The battery life is respectable, offering around 5-7 days on a single charge with moderate usage.Compatibility:The Fireboltt Phoenix is compatible with both Android and iOS devices, ensuring broad accessibility for users across different platforms. However, the companion app could use some refinement in terms of user interface and functionality.Overall:For its affordable price, the Fireboltt Phoenix smartwatch offers excellent value for users seeking a reliable fitness companion with essential smart features. While it may not rival high-end smartwatches in terms of advanced functionalities, it more than meets the needs of casual users and fitness enthusiasts on a budget. If you're looking for an affordable entry into the world of smartwatches, the Fireboltt Phoenix is definitely worth considering.\",\n",
       " \"Lete make this quick:Design: Besides a 1.39-inch display, it's also durable and water-resistant for active lifestyles.Features:- Standout feature: Bluetooth calling, a rare find at this price.- Tracks heart rate, SpO2, and various sports modes.- Monitors sleep and stress levels (not very accurate though)Battery Life:- Lasts up to 5 days on a single charge, but heavy use of features like Bluetooth calling can drain it faster.Other Considerations:- App has some syncing issues, not a wide selection of good watch faces available.Overall:- Great for budget-conscious fitness fans, especially those wanting Bluetooth calling.- Good display and health tracking, but app performance can be improved.In Short:Pros:- Affordable- Bluetooth calling- Health tracking featuresCons:- Quality watch faces are limited- App syncing issues- Battery life variesOverall, if you don't care much about the cons, it's a considerable budget smartwatch.\",\n",
       " \"Fire-Boltt Phoenix BSW 194: Budget-Friendly Fitness on Your WristThe Fire-Boltt Phoenix BSW 194 is a smartwatch aimed at those looking for a feature-packed wearable at an affordable price. Let's see if it lives up to the hype.Design and Build: * The Phoenix boasts a  1.43-inch AMOLED display with a decent resolution, offering clear visuals. * The metal body feels surprisingly sturdy for the price, and the IP67 water resistance allows you to take it for runs or wear it in the rain. * While some reviewers find the design sporty and functional, others might  consider it a bit bulky.Features: * The standout feature is Bluetooth calling, which lets you make and receive calls directly from your wrist. This is a convenience you won't find in many smartwatches at this price point. * Beyond calls, it offers a suite of health and fitness trackers, including heart rate monitoring, SpO2 (blood oxygen) measurement, and multiple sports modes. * Sleep monitoring and stress monitoring are included as well, although their accuracy might be debated.Battery Life: * The Fire-Boltt Phoenix is advertised to last up to 5 days on a single charge, which is fairly standard. However, frequent use of features like Bluetooth calling can significantly reduce that.Other Considerations: * The companion app might not be the most intuitive, and some users report occasional syncing issues. * While the watch offers a wide variety of watch faces, their quality can be inconsistent.Overall:The Fire-Boltt Phoenix BSW 194 is a solid option for budget-minded fitness enthusiasts who prioritize features like Bluetooth calling. The display is good, the build quality is decent, and the health tracking features, while not perfect, are a welcome addition. However, keep in mind the potential drawbacks like a less-than-perfect app and average battery life when making your decision.Here's a quick breakdown:Pros: * Affordable price * Bluetooth calling * Multiple health and fitness tracking features * AMOLED displayCons: * Bulky design (subjective) * App could be improved * Inconsistent battery life with heavy useIf you're looking for a feature-rich smartwatch at a great price, the Fire-Boltt Phoenix BSW 194 is a strong contender. Just be sure to manage your expectations for app performance and battery life.\",\n",
       " 'This is a great watch although I can’t get phone or ai voice control to work on the watch, does anyone know what size band this watch takes, I’m trying to find a different color band',\n",
       " 'Da Fit app is not very good. It cannot display the correct weather, temperatures are way off and provides incorrect forecast.',\n",
       " \"I bought this knowing that it was inexpensive, I wasn't expecting the world...but at the very least, I expected it to stay together. While removing it from the packaging, the display fell off the watch. It is only connected by a few scraps of terrible glue and the ribbon cable. I didn't even get to wear it. I have never returned a product faster. Do not buy this! Even if yours stays together, the glue is so bad that the water and dust ratings are meaningless. Save your money.\",\n",
       " 'Good quality product',\n",
       " \"After one day, I can't find anything bad about it. I look forward to future products from this company and will definitely buy the next model to come out.2 Week Update: Still pretty happy with the watch given the price. My biggest complaint is you can not silence the ringer or put it on vibrate. I ended up just disabling the phone in my phone's Bluetooth settings because it's more of a gimmick anyway.1 Month Update: I found out the hard way this watch leaks like a sieve. I think it's unreasonable for a watch to not have an any water resistance.\"]"
      ]
     },
     "execution_count": 28,
     "metadata": {},
     "output_type": "execute_result"
    }
   ],
   "source": [
    "review_content=[]\n",
    "for i in range(0,len(rc)):\n",
    "    review_content.append(rc[i].get_text())\n",
    "    review_content = [text.replace('\\n', '') for text in review_content]\n",
    "review_content"
   ]
  },
  {
   "cell_type": "code",
   "execution_count": 29,
   "id": "2bd9d092-61df-43a0-bccc-05ba174b2229",
   "metadata": {},
   "outputs": [
    {
     "data": {
      "text/html": [
       "<div>\n",
       "<style scoped>\n",
       "    .dataframe tbody tr th:only-of-type {\n",
       "        vertical-align: middle;\n",
       "    }\n",
       "\n",
       "    .dataframe tbody tr th {\n",
       "        vertical-align: top;\n",
       "    }\n",
       "\n",
       "    .dataframe thead th {\n",
       "        text-align: right;\n",
       "    }\n",
       "</style>\n",
       "<table border=\"1\" class=\"dataframe\">\n",
       "  <thead>\n",
       "    <tr style=\"text-align: right;\">\n",
       "      <th></th>\n",
       "      <th>Cust Name</th>\n",
       "      <th>Review Title</th>\n",
       "      <th>Rating</th>\n",
       "      <th>Review</th>\n",
       "    </tr>\n",
       "  </thead>\n",
       "  <tbody>\n",
       "    <tr>\n",
       "      <th>0</th>\n",
       "      <td>Product Feature Video</td>\n",
       "      <td>Budget friendly smartwatch</td>\n",
       "      <td>5.0</td>\n",
       "      <td>Fireboltt Phoenix Smart Watch Review: A Budget...</td>\n",
       "    </tr>\n",
       "    <tr>\n",
       "      <th>1</th>\n",
       "      <td>Amazon Customer</td>\n",
       "      <td>Considerable for the price</td>\n",
       "      <td>4.0</td>\n",
       "      <td>Lete make this quick:Design: Besides a 1.39-in...</td>\n",
       "    </tr>\n",
       "    <tr>\n",
       "      <th>2</th>\n",
       "      <td>Amazon Customer</td>\n",
       "      <td>Fire-Boltt Phoenix BSW 194: Budget-Friendly Fi...</td>\n",
       "      <td>4.0</td>\n",
       "      <td>Fire-Boltt Phoenix BSW 194: Budget-Friendly Fi...</td>\n",
       "    </tr>\n",
       "  </tbody>\n",
       "</table>\n",
       "</div>"
      ],
      "text/plain": [
       "               Cust Name                                       Review Title  \\\n",
       "0  Product Feature Video                         Budget friendly smartwatch   \n",
       "1        Amazon Customer                         Considerable for the price   \n",
       "2        Amazon Customer  Fire-Boltt Phoenix BSW 194: Budget-Friendly Fi...   \n",
       "\n",
       "  Rating                                             Review  \n",
       "0    5.0  Fireboltt Phoenix Smart Watch Review: A Budget...  \n",
       "1    4.0  Lete make this quick:Design: Besides a 1.39-in...  \n",
       "2    4.0  Fire-Boltt Phoenix BSW 194: Budget-Friendly Fi...  "
      ]
     },
     "execution_count": 29,
     "metadata": {},
     "output_type": "execute_result"
    }
   ],
   "source": [
    "df = pd.DataFrame()\n",
    "df['Cust Name'] = cust_name[:3]\n",
    "df['Review Title'] = review_title[:3]\n",
    "df['Rating']= rating[:3]\n",
    "df['Review'] = review_content[:3]\n",
    "\n",
    "df.head()"
   ]
  },
  {
   "cell_type": "code",
   "execution_count": 31,
   "id": "c0933f7d-5e7f-42b9-af66-b4b123959101",
   "metadata": {},
   "outputs": [],
   "source": [
    "df.to_csv('Web scrapping.csv',index=False)"
   ]
  },
  {
   "cell_type": "code",
   "execution_count": null,
   "id": "189a4e02-118d-46e9-9c2e-4491ec56504f",
   "metadata": {},
   "outputs": [],
   "source": []
  }
 ],
 "metadata": {
  "kernelspec": {
   "display_name": "Python 3 (ipykernel)",
   "language": "python",
   "name": "python3"
  },
  "language_info": {
   "codemirror_mode": {
    "name": "ipython",
    "version": 3
   },
   "file_extension": ".py",
   "mimetype": "text/x-python",
   "name": "python",
   "nbconvert_exporter": "python",
   "pygments_lexer": "ipython3",
   "version": "3.11.5"
  }
 },
 "nbformat": 4,
 "nbformat_minor": 5
}
